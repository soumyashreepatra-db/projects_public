{
 "cells": [
  {
   "cell_type": "code",
   "execution_count": 0,
   "metadata": {
    "application/vnd.databricks.v1+cell": {
     "cellMetadata": {
      "byteLimit": 2048000,
      "rowLimit": 10000
     },
     "inputWidgets": {},
     "nuid": "af4249dc-1a16-4d15-a453-fdb8d6a90128",
     "showTitle": false,
     "tableResultSettingsMap": {},
     "title": ""
    }
   },
   "outputs": [],
   "source": [
    "\n",
    "# Load CSV data into a DataFrame\n",
    "df = spark.read.csv('/Volumes/demo_soumyashree_patra/bharat_bank_rm/source_feed/campaigns.csv', header=True, inferSchema=True)\n",
    "\n",
    "# Create a table from the DataFrame\n",
    "df.write.format('delta').mode('overwrite').saveAsTable('demo_soumyashree_patra.bharat_bank_rm.campaigns')"
   ]
  },
  {
   "cell_type": "code",
   "execution_count": 0,
   "metadata": {
    "application/vnd.databricks.v1+cell": {
     "cellMetadata": {
      "byteLimit": 2048000,
      "rowLimit": 10000
     },
     "inputWidgets": {},
     "nuid": "c823a547-164c-4e2e-83c0-632103a2276d",
     "showTitle": false,
     "tableResultSettingsMap": {},
     "title": ""
    }
   },
   "outputs": [],
   "source": [
    "%python\n",
    "# Load CSV data into a DataFrame\n",
    "df = spark.read.csv('/Volumes/demo_soumyashree_patra/bharat_bank_rm/source_feed/customer_dtls.csv', header=True, inferSchema=True)\n",
    "\n",
    "# Create a table from the DataFrame\n",
    "df.write.format('delta').mode('overwrite').saveAsTable('demo_soumyashree_patra.bharat_bank_rm.customer_dtls')"
   ]
  },
  {
   "cell_type": "code",
   "execution_count": 0,
   "metadata": {
    "application/vnd.databricks.v1+cell": {
     "cellMetadata": {
      "byteLimit": 2048000,
      "rowLimit": 10000
     },
     "inputWidgets": {},
     "nuid": "fde45350-f2d1-4017-b96e-005163ea0ce3",
     "showTitle": false,
     "tableResultSettingsMap": {},
     "title": ""
    }
   },
   "outputs": [],
   "source": [
    "# Load CSV data into a DataFrame\n",
    "df = spark.read.csv('/Volumes/demo_soumyashree_patra/bharat_bank_rm/source_feed/digital_engagement.csv', header=True, inferSchema=True)\n",
    "\n",
    "# Create a table from the DataFrame\n",
    "df.write.format('delta').mode('overwrite').saveAsTable('demo_soumyashree_patra.bharat_bank_rm.digital_engagement')"
   ]
  },
  {
   "cell_type": "code",
   "execution_count": 0,
   "metadata": {
    "application/vnd.databricks.v1+cell": {
     "cellMetadata": {
      "byteLimit": 2048000,
      "rowLimit": 10000
     },
     "inputWidgets": {},
     "nuid": "4c20b799-e3c4-4e0c-aad3-3ac0cccae883",
     "showTitle": false,
     "tableResultSettingsMap": {},
     "title": ""
    }
   },
   "outputs": [],
   "source": [
    "# Load CSV data into a DataFrame\n",
    "df = spark.read.csv('/Volumes/demo_soumyashree_patra/bharat_bank_rm/source_feed/interactions.csv', header=True, inferSchema=True)\n",
    "\n",
    "# Create a table from the DataFrame\n",
    "df.write.format('delta').mode('overwrite').saveAsTable('demo_soumyashree_patra.bharat_bank_rm.interactions')"
   ]
  },
  {
   "cell_type": "code",
   "execution_count": 0,
   "metadata": {
    "application/vnd.databricks.v1+cell": {
     "cellMetadata": {
      "byteLimit": 2048000,
      "rowLimit": 10000
     },
     "inputWidgets": {},
     "nuid": "198e3250-2aa6-4d50-9697-9b2ce8026305",
     "showTitle": false,
     "tableResultSettingsMap": {},
     "title": ""
    }
   },
   "outputs": [],
   "source": [
    "# Load CSV data into a DataFrame\n",
    "df = spark.read.csv('/Volumes/demo_soumyashree_patra/bharat_bank_rm/source_feed/portfolio.csv', header=True, inferSchema=True)\n",
    "\n",
    "# Create a table from the DataFrame\n",
    "df.write.format('delta').mode('overwrite').saveAsTable('demo_soumyashree_patra.bharat_bank_rm.portfolio')"
   ]
  },
  {
   "cell_type": "code",
   "execution_count": 0,
   "metadata": {
    "application/vnd.databricks.v1+cell": {
     "cellMetadata": {
      "byteLimit": 2048000,
      "rowLimit": 10000
     },
     "inputWidgets": {},
     "nuid": "71a55b50-30e2-4f6c-a9a3-6c0c39b2f16f",
     "showTitle": false,
     "tableResultSettingsMap": {},
     "title": ""
    }
   },
   "outputs": [],
   "source": [
    "# Load CSV data into a DataFrame\n",
    "df = spark.read.csv('/Volumes/demo_soumyashree_patra/bharat_bank_rm/source_feed/risk_compliance.csv', header=True, inferSchema=True)\n",
    "\n",
    "# Create a table from the DataFrame\n",
    "df.write.format('delta').mode('overwrite').saveAsTable('demo_soumyashree_patra.bharat_bank_rm.risk_compliance')"
   ]
  },
  {
   "cell_type": "code",
   "execution_count": 0,
   "metadata": {
    "application/vnd.databricks.v1+cell": {
     "cellMetadata": {
      "byteLimit": 2048000,
      "rowLimit": 10000
     },
     "inputWidgets": {},
     "nuid": "441a0ded-fa5d-49f7-8147-30ac543da95a",
     "showTitle": false,
     "tableResultSettingsMap": {},
     "title": ""
    }
   },
   "outputs": [],
   "source": [
    "# Load CSV data into a DataFrame\n",
    "df = spark.read.csv('/Volumes/demo_soumyashree_patra/bharat_bank_rm/source_feed/rm_performance.csv', header=True, inferSchema=True)\n",
    "\n",
    "# Create a table from the DataFrame\n",
    "df.write.format('delta').mode('overwrite').saveAsTable('demo_soumyashree_patra.bharat_bank_rm.rm_performance')"
   ]
  },
  {
   "cell_type": "code",
   "execution_count": 0,
   "metadata": {
    "application/vnd.databricks.v1+cell": {
     "cellMetadata": {
      "byteLimit": 2048000,
      "rowLimit": 10000
     },
     "inputWidgets": {},
     "nuid": "5287b5f7-287f-4117-aac0-2a53d86718a4",
     "showTitle": false,
     "tableResultSettingsMap": {},
     "title": ""
    }
   },
   "outputs": [],
   "source": [
    "# Load CSV data into a DataFrame\n",
    "df = spark.read.csv('/Volumes/demo_soumyashree_patra/bharat_bank_rm/source_feed/service_requests.csv', header=True, inferSchema=True)\n",
    "\n",
    "# Create a table from the DataFrame\n",
    "df.write.format('delta').mode('overwrite').saveAsTable('demo_soumyashree_patra.bharat_bank_rm.service_requests')"
   ]
  },
  {
   "cell_type": "code",
   "execution_count": 0,
   "metadata": {
    "application/vnd.databricks.v1+cell": {
     "cellMetadata": {
      "byteLimit": 2048000,
      "rowLimit": 10000
     },
     "inputWidgets": {},
     "nuid": "789ca581-c321-4c83-a078-2fbf68e63d93",
     "showTitle": false,
     "tableResultSettingsMap": {},
     "title": ""
    }
   },
   "outputs": [],
   "source": [
    "# Load CSV data into a DataFrame\n",
    "df = spark.read.csv('/Volumes/demo_soumyashree_patra/bharat_bank_rm/source_feed/transactions.csv', header=True, inferSchema=True)\n",
    "\n",
    "# Create a table from the DataFrame\n",
    "df.write.format('delta').mode('overwrite').saveAsTable('demo_soumyashree_patra.bharat_bank_rm.transactions')"
   ]
  }
 ],
 "metadata": {
  "application/vnd.databricks.v1+notebook": {
   "computePreferences": null,
   "dashboards": [],
   "environmentMetadata": {
    "base_environment": "",
    "environment_version": "3"
   },
   "inputWidgetPreferences": null,
   "language": "python",
   "notebookMetadata": {
    "pythonIndentUnit": 2
   },
   "notebookName": "00-ingestion",
   "widgets": {}
  },
  "language_info": {
   "name": "python"
  }
 },
 "nbformat": 4,
 "nbformat_minor": 0
}
